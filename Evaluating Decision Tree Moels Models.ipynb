{
 "cells": [
  {
   "cell_type": "code",
   "execution_count": null,
   "metadata": {},
   "outputs": [],
   "source": [
    "%%capture\n",
    "import numpy as np\n",
    "import pandas as pd\n",
    "import seaborn as sns\n",
    "from sklearn import tree\n",
    "import pandas.api.types as ptypes\n",
    "\n",
    "from matplotlib import pyplot as plt\n",
    "from imblearn.over_sampling import ADASYN \n",
    "\n",
    "import pydotplus\n",
    "\n",
    "pd.options.display.max_rows = 999\n",
    "pd.options.display.max_columns = 999\n",
    "pd.options.display.max_colwidth = 999\n",
    "\n",
    "\n",
    "# from tqdm import tqdm_notebook as tqdm\n",
    "from tqdm.autonotebook import tqdm\n",
    "tqdm().pandas()"
   ]
  },
  {
   "cell_type": "markdown",
   "metadata": {},
   "source": [
    "### Execute ADASYN oversampling on imbalanced dataset and Export Decision tree rules to a figure"
   ]
  },
  {
   "cell_type": "code",
   "execution_count": null,
   "metadata": {},
   "outputs": [],
   "source": [
    "ada = ADASYN(random_state=42)\n",
    "X_res, y_res = ada.fit_resample(df_data, df_target)\n",
    "\n",
    "clf = clf.fit(X_res, y_res)\n",
    "dot_data = tree.export_graphviz(clf, out_file=None, feature_names=df_data.columns, filled = True,special_characters=True, class_names=['GOOD','BAD']) \n",
    "graph = pydotplus.graph_from_dot_data(dot_data)\n",
    "\n",
    "graph.write_pdf(\"D:/Poatek/Blinc/Risk_Project/DT.pdf\") "
   ]
  },
  {
   "cell_type": "markdown",
   "metadata": {},
   "source": [
    "# Cross-validation method applied to Decision Tree Models"
   ]
  },
  {
   "cell_type": "markdown",
   "metadata": {},
   "source": [
    "Below, some methods for perform cross-validation and evaluation of decision tree models are presented"
   ]
  },
  {
   "cell_type": "code",
   "execution_count": 1,
   "metadata": {},
   "outputs": [],
   "source": [
    "def crossvalidation(indices, K):\n",
    "    \n",
    "    size_indices = len(indices)\n",
    "    size_combinations = round(size_indices/K)\n",
    "    \n",
    "    combinations = [indices[i:i+size_combinations] for i in range(0, len(indices), size_combinations)]\n",
    "    \n",
    "    Kfolds = []\n",
    "    for i in range(K):\n",
    "        train = []\n",
    "        test = []\n",
    "        test = combinations[i]\n",
    "        \n",
    "        for combination in combinations:\n",
    "            if combination != test:\n",
    "                train.append(combination)\n",
    "        \n",
    "        train_new = [item for sublist in train for item in sublist]\n",
    "        Kfolds.append((train_new, test))\n",
    "    \n",
    "    return Kfolds"
   ]
  },
  {
   "cell_type": "code",
   "execution_count": null,
   "metadata": {},
   "outputs": [],
   "source": [
    "import seaborn as sns\n",
    "from sklearn.metrics import confusion_matrix\n",
    "\n",
    "\n",
    "folds = crossvalidation(X_res.index.to_list(),7)\n",
    "\n",
    "tn, fp, fn, tp\n",
    "for k in range(len(folds)):\n",
    "    \n",
    "    X_train, y_train = X_res.iloc[folds[k][0]], y_res.iloc[folds[k][0]]\n",
    "    X_test, y_test = X_res.iloc[folds[k][1]], y_res.iloc[folds[k][1]]\n",
    "\n",
    "    clf = tree.DecisionTreeClassifier(max_depth=5)\n",
    "    clf = clf.fit(X_train, y_train)\n",
    "\n",
    "    y_pred = clf.predict(X_test)\n",
    "\n",
    "    tn_temp, fp_temp, fn_temp, tp_temp = confusion_matrix(y_test, y_pred).ravel()\n",
    "    \n",
    "    tn, fp, fn, tp = tn+tn_temp, fp+fp_temp, fn+fn_temp, tp+tp_temp\n",
    "\n",
    "precision = tp/(tp+fp)\n",
    "recall = tp/(tp+fn)\n",
    "accuracy = (tp+tn)/(tp+tn+fp+fn)\n",
    "\n",
    "print(f'Accuracy: {accuracy}, Precision: {precision}, Recall: {recall}')\n",
    "\n",
    "confusion_matrix = np.array([[tp, fp],[fp,tn]])\n",
    "sns.heatmap(confusion_matrix,annot=True,fmt=\"d\");"
   ]
  },
  {
   "cell_type": "markdown",
   "metadata": {},
   "source": [
    "### Evaluation with support of cross_validate for accuracy, precision and f-score"
   ]
  },
  {
   "cell_type": "code",
   "execution_count": null,
   "metadata": {},
   "outputs": [],
   "source": [
    "from sklearn.metrics import make_scorer, accuracy_score, precision_score, recall_score, f1_score\n",
    "from sklearn.model_selection import KFold\n",
    "from sklearn.model_selection import cross_validate\n",
    "\n",
    "scoring = {'accuracy' : make_scorer(accuracy_score), \n",
    "           'precision' : make_scorer(precision_score),\n",
    "           'recall' : make_scorer(recall_score), \n",
    "           'f1_score' : make_scorer(f1_score)}\n",
    "\n",
    "kfold = KFold(n_splits=7, random_state=42)\n",
    "clf = tree.DecisionTreeClassifier(max_depth=5)\n",
    "\n",
    "results = cross_validate(estimator=clf, X=X_res, y=y_res, cv=kfold, scoring=scoring)\n",
    "display(results)"
   ]
  },
  {
   "cell_type": "markdown",
   "metadata": {},
   "source": [
    "### Checking tree depth influence on model accuracy"
   ]
  },
  {
   "cell_type": "code",
   "execution_count": null,
   "metadata": {},
   "outputs": [],
   "source": [
    "from sklearn.model_selection import cross_val_score\n",
    "depth = []\n",
    "for i in range(3,50):\n",
    "    clf = tree.DecisionTreeClassifier(max_depth=i)\n",
    "    # Perform 7-fold cross validation \n",
    "    scores = cross_val_score(estimator=clf, X=X_res, y=y_res, cv=10, n_jobs=4)\n",
    "    depth.append((i,scores.mean()))\n",
    "print(depth)"
   ]
  },
  {
   "cell_type": "code",
   "execution_count": null,
   "metadata": {},
   "outputs": [],
   "source": [
    "x = [x[0] for x in depth]\n",
    "y = [x[1] for x in depth]\n",
    "\n",
    "fig, ax = plt.subplots(figsize=(12,8))\n",
    "ax.plot(x, y, 'o-')\n",
    "ax.set_title('Accuracy x Decision Tree depth', fontsize=20)\n",
    "ax.set_ylabel('Accuracy')\n",
    "ax.grid()\n",
    "ax.set_xlabel('Decision Tree Depth');\n"
   ]
  }
 ],
 "metadata": {
  "kernelspec": {
   "display_name": "Python [conda env:.conda-study]",
   "language": "python",
   "name": "conda-env-.conda-study-py"
  },
  "language_info": {
   "codemirror_mode": {
    "name": "ipython",
    "version": 3
   },
   "file_extension": ".py",
   "mimetype": "text/x-python",
   "name": "python",
   "nbconvert_exporter": "python",
   "pygments_lexer": "ipython3",
   "version": "3.7.5"
  }
 },
 "nbformat": 4,
 "nbformat_minor": 2
}
